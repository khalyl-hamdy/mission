{
  "nbformat": 4,
  "nbformat_minor": 0,
  "metadata": {
    "colab": {
      "name": "Mission_TA_text_classification.ipynb",
      "provenance": [],
      "collapsed_sections": [],
      "include_colab_link": true
    },
    "kernelspec": {
      "name": "python3",
      "display_name": "Python 3"
    },
    "accelerator": "GPU"
  },
  "cells": [
    {
      "cell_type": "markdown",
      "metadata": {
        "id": "view-in-github",
        "colab_type": "text"
      },
      "source": [
        "<a href=\"https://colab.research.google.com/github/khalyl-hamdy/mission/blob/main/Mission_TA_text_classification.ipynb\" target=\"_parent\"><img src=\"https://colab.research.google.com/assets/colab-badge.svg\" alt=\"Open In Colab\"/></a>"
      ]
    },
    {
      "cell_type": "markdown",
      "metadata": {
        "id": "rtC54dm-k_Qv"
      },
      "source": [
        "# **Talan Academy Mission:**\n",
        "In this example will discover an implimentation for Deep Learning Algorithms. In fact, we will focus on the Natural Language Processing (NLP) where we are going to build a model that predicts the category of an article (Politics,Business,Sport...) using only its title or part of its body.\n",
        "\n",
        "\n",
        ">Definition: Natural language processing (NLP) is a field within artificial intelligence (AI) and machine learning that combines linguistics and computer science to break down language, so it can be analyzed by machines.Natural language processing (NLP) is a field within artificial intelligence (AI) and machine learning that combines linguistics and computer science to break down language, so it can be analyzed by machines.\n",
        "\n",
        "\n",
        "\n",
        "\n",
        "\n",
        "\n"
      ]
    },
    {
      "cell_type": "markdown",
      "metadata": {
        "id": "A0_jbc8Dn_Jc"
      },
      "source": [
        "## Step 1: Google Colab and import libraries\n",
        "What is Colaboratory?\n",
        "\n",
        "Colaboratory, or \"Colab\" for short, allows you to write and execute Python in your browser, with: \n",
        "- Zero configuration required\n",
        "- Free access to GPUs\n",
        "- Easy sharing\n",
        "\n",
        "Whether you're a **student**, a **data scientist** or an **AI researcher**, Colab can make your work easier.\n",
        "\n",
        "###Using Google Drive to aget access to colab "
      ]
    },
    {
      "cell_type": "code",
      "metadata": {
        "id": "zBeKwXpypNwi",
        "colab": {
          "base_uri": "https://localhost:8080/",
          "height": 0
        },
        "outputId": "8a5292d2-bd93-4814-b867-ba68538bcbc6"
      },
      "source": [
        "from google.colab import drive\n",
        "drive.mount('/content/gdrive')"
      ],
      "execution_count": 1,
      "outputs": [
        {
          "output_type": "stream",
          "text": [
            "Mounted at /content/gdrive\n"
          ],
          "name": "stdout"
        }
      ]
    },
    {
      "cell_type": "code",
      "metadata": {
        "id": "Bew3DuispwI4",
        "colab": {
          "base_uri": "https://localhost:8080/",
          "height": 0
        },
        "outputId": "f94aaea5-bdd2-4cf5-a0ee-2d0de1262943"
      },
      "source": [
        "%cd /content/gdrive/My\\ Drive/NLP/text_classification\n"
      ],
      "execution_count": 2,
      "outputs": [
        {
          "output_type": "stream",
          "text": [
            "/content/gdrive/My Drive/NLP/text_classification\n"
          ],
          "name": "stdout"
        }
      ]
    },
    {
      "cell_type": "markdown",
      "metadata": {
        "id": "QWf7qt3jqTUy"
      },
      "source": [
        "### Import Labraries : numpy, pandas, matplotlib, Keras, sklearn."
      ]
    },
    {
      "cell_type": "code",
      "metadata": {
        "id": "5RRu29B5qNZj"
      },
      "source": [
        "\n",
        "import numpy as np # linear algebra\n",
        "import pandas as pd # data processing, CSV file I/O (e.g. pd.read_csv)\n",
        "\n",
        "import matplotlib.pyplot as plt\n",
        "plt.rcParams['figure.figsize'] = (6,6)\n",
        "\n",
        "\n",
        "from keras import backend as K\n",
        "from keras.engine.topology import Layer\n",
        "from keras import initializers, regularizers, constraints\n",
        "\n",
        "from keras.layers import Dense, Input, LSTM, Bidirectional, Activation, Conv1D, GRU, TimeDistributed\n",
        "from keras.layers import Dropout, Embedding, GlobalMaxPooling1D, MaxPooling1D, Add, Flatten, SpatialDropout1D\n",
        "from keras.layers import GlobalAveragePooling1D, BatchNormalization, concatenate\n",
        "from keras.layers import Reshape, merge, Concatenate, Lambda, Average\n",
        "from keras.models import Sequential, Model, load_model\n",
        "from keras.callbacks import ModelCheckpoint\n",
        "from keras.initializers import Constant\n",
        "from keras.layers.merge import add\n",
        "\n",
        "from keras.preprocessing import sequence\n",
        "from keras.preprocessing.text import Tokenizer, text_to_word_sequence\n",
        "from keras.utils import np_utils\n",
        "\n",
        "from sklearn.model_selection import train_test_split\n"
      ],
      "execution_count": 4,
      "outputs": []
    },
    {
      "cell_type": "markdown",
      "metadata": {
        "id": "zuGGlFHdk9PB"
      },
      "source": [
        "## Step 2: Load Data, Get an overview and Apply changes\n",
        "\n",
        "Load the json file into pandas Dataframe and display it."
      ]
    },
    {
      "cell_type": "code",
      "metadata": {
        "id": "AKties2Jq6Gn",
        "colab": {
          "base_uri": "https://localhost:8080/",
          "height": 279
        },
        "outputId": "e802daa1-b758-4c65-faaf-8fce254ffb86"
      },
      "source": [
        "# load data\n",
        "\n",
        "df = pd.read_json('News_Category_Dataset_v2.json', lines=True)\n",
        "df.head()"
      ],
      "execution_count": 5,
      "outputs": [
        {
          "output_type": "execute_result",
          "data": {
            "text/html": [
              "<div>\n",
              "<style scoped>\n",
              "    .dataframe tbody tr th:only-of-type {\n",
              "        vertical-align: middle;\n",
              "    }\n",
              "\n",
              "    .dataframe tbody tr th {\n",
              "        vertical-align: top;\n",
              "    }\n",
              "\n",
              "    .dataframe thead th {\n",
              "        text-align: right;\n",
              "    }\n",
              "</style>\n",
              "<table border=\"1\" class=\"dataframe\">\n",
              "  <thead>\n",
              "    <tr style=\"text-align: right;\">\n",
              "      <th></th>\n",
              "      <th>category</th>\n",
              "      <th>headline</th>\n",
              "      <th>authors</th>\n",
              "      <th>link</th>\n",
              "      <th>short_description</th>\n",
              "      <th>date</th>\n",
              "    </tr>\n",
              "  </thead>\n",
              "  <tbody>\n",
              "    <tr>\n",
              "      <th>0</th>\n",
              "      <td>CRIME</td>\n",
              "      <td>There Were 2 Mass Shootings In Texas Last Week...</td>\n",
              "      <td>Melissa Jeltsen</td>\n",
              "      <td>https://www.huffingtonpost.com/entry/texas-ama...</td>\n",
              "      <td>She left her husband. He killed their children...</td>\n",
              "      <td>2018-05-26</td>\n",
              "    </tr>\n",
              "    <tr>\n",
              "      <th>1</th>\n",
              "      <td>ENTERTAINMENT</td>\n",
              "      <td>Will Smith Joins Diplo And Nicky Jam For The 2...</td>\n",
              "      <td>Andy McDonald</td>\n",
              "      <td>https://www.huffingtonpost.com/entry/will-smit...</td>\n",
              "      <td>Of course it has a song.</td>\n",
              "      <td>2018-05-26</td>\n",
              "    </tr>\n",
              "    <tr>\n",
              "      <th>2</th>\n",
              "      <td>ENTERTAINMENT</td>\n",
              "      <td>Hugh Grant Marries For The First Time At Age 57</td>\n",
              "      <td>Ron Dicker</td>\n",
              "      <td>https://www.huffingtonpost.com/entry/hugh-gran...</td>\n",
              "      <td>The actor and his longtime girlfriend Anna Ebe...</td>\n",
              "      <td>2018-05-26</td>\n",
              "    </tr>\n",
              "    <tr>\n",
              "      <th>3</th>\n",
              "      <td>ENTERTAINMENT</td>\n",
              "      <td>Jim Carrey Blasts 'Castrato' Adam Schiff And D...</td>\n",
              "      <td>Ron Dicker</td>\n",
              "      <td>https://www.huffingtonpost.com/entry/jim-carre...</td>\n",
              "      <td>The actor gives Dems an ass-kicking for not fi...</td>\n",
              "      <td>2018-05-26</td>\n",
              "    </tr>\n",
              "    <tr>\n",
              "      <th>4</th>\n",
              "      <td>ENTERTAINMENT</td>\n",
              "      <td>Julianna Margulies Uses Donald Trump Poop Bags...</td>\n",
              "      <td>Ron Dicker</td>\n",
              "      <td>https://www.huffingtonpost.com/entry/julianna-...</td>\n",
              "      <td>The \"Dietland\" actress said using the bags is ...</td>\n",
              "      <td>2018-05-26</td>\n",
              "    </tr>\n",
              "  </tbody>\n",
              "</table>\n",
              "</div>"
            ],
            "text/plain": [
              "        category  ...       date\n",
              "0          CRIME  ... 2018-05-26\n",
              "1  ENTERTAINMENT  ... 2018-05-26\n",
              "2  ENTERTAINMENT  ... 2018-05-26\n",
              "3  ENTERTAINMENT  ... 2018-05-26\n",
              "4  ENTERTAINMENT  ... 2018-05-26\n",
              "\n",
              "[5 rows x 6 columns]"
            ]
          },
          "metadata": {
            "tags": []
          },
          "execution_count": 5
        }
      ]
    },
    {
      "cell_type": "markdown",
      "metadata": {
        "id": "BAt0hIyzs3KW"
      },
      "source": [
        "Get an overview: "
      ]
    },
    {
      "cell_type": "code",
      "metadata": {
        "id": "EOAjd_5lOJhu",
        "colab": {
          "base_uri": "https://localhost:8080/",
          "height": 0
        },
        "outputId": "7f0a3e0b-11a0-4729-a743-da052d9f4753"
      },
      "source": [
        "print (\"Data Size = \", df.size)"
      ],
      "execution_count": 48,
      "outputs": [
        {
          "output_type": "stream",
          "text": [
            "Data Size =  1999140\n"
          ],
          "name": "stdout"
        }
      ]
    },
    {
      "cell_type": "code",
      "metadata": {
        "id": "UENEk_4WrSYC",
        "colab": {
          "base_uri": "https://localhost:8080/",
          "height": 0
        },
        "outputId": "332c34ff-8f7b-4e9f-cea5-4637d4c9d5fb"
      },
      "source": [
        "cates = df.groupby('category')\n",
        "print(\"total categories:\", cates.ngroups)\n",
        "print(cates.size())"
      ],
      "execution_count": 7,
      "outputs": [
        {
          "output_type": "stream",
          "text": [
            "total categories: 41\n",
            "category\n",
            "ARTS               1509\n",
            "ARTS & CULTURE     1339\n",
            "BLACK VOICES       4528\n",
            "BUSINESS           5937\n",
            "COLLEGE            1144\n",
            "COMEDY             5175\n",
            "CRIME              3405\n",
            "CULTURE & ARTS     1030\n",
            "DIVORCE            3426\n",
            "EDUCATION          1004\n",
            "ENTERTAINMENT     16058\n",
            "ENVIRONMENT        1323\n",
            "FIFTY              1401\n",
            "FOOD & DRINK       6226\n",
            "GOOD NEWS          1398\n",
            "GREEN              2622\n",
            "HEALTHY LIVING     6694\n",
            "HOME & LIVING      4195\n",
            "IMPACT             3459\n",
            "LATINO VOICES      1129\n",
            "MEDIA              2815\n",
            "MONEY              1707\n",
            "PARENTING          8677\n",
            "PARENTS            3955\n",
            "POLITICS          32739\n",
            "QUEER VOICES       6314\n",
            "RELIGION           2556\n",
            "SCIENCE            2178\n",
            "SPORTS             4884\n",
            "STYLE              2254\n",
            "STYLE & BEAUTY     9649\n",
            "TASTE              2096\n",
            "TECH               2082\n",
            "THE WORLDPOST      3664\n",
            "TRAVEL             9887\n",
            "WEDDINGS           3651\n",
            "WEIRD NEWS         2670\n",
            "WELLNESS          17827\n",
            "WOMEN              3490\n",
            "WORLD NEWS         2177\n",
            "WORLDPOST          2579\n",
            "dtype: int64\n"
          ],
          "name": "stdout"
        }
      ]
    },
    {
      "cell_type": "markdown",
      "metadata": {
        "id": "lYwV2rtAtZKu"
      },
      "source": [
        "### Processing:\n",
        "Create new column \"text\" which concatinates the title and the description of an article (input data for the model).\n",
        "\n",
        "Then use Tokenizer to vectorize the text corpus, by turning each text into either a sequence of integers (each integer being the index of a token in a dictionary) \n",
        "\n",
        "Delete null or short text rows in order to get better results"
      ]
    },
    {
      "cell_type": "code",
      "metadata": {
        "id": "AjQW-Fo5uRP8",
        "colab": {
          "base_uri": "https://localhost:8080/",
          "height": 615
        },
        "outputId": "aed5908b-04f1-425d-a6af-a6d9b976e8e2"
      },
      "source": [
        "# using headlines and short_description as input X\n",
        "df['text'] = df.headline + \" \" + df.short_description\n",
        "\n",
        "#Same category with two differnt names:\n",
        "df.category = df.category.map(lambda x: \"WORLDPOST\" if x == \"THE WORLDPOST\" else x)\n",
        "\n",
        "# tokenizing\n",
        "\n",
        "tokenizer = Tokenizer()\n",
        "tokenizer.fit_on_texts(df.text)\n",
        "X = tokenizer.texts_to_sequences(df.text)\n",
        "df['words'] = X\n",
        "\n",
        "# delete some empty and short data\n",
        "\n",
        "df['word_length'] = df.words.apply(lambda i: len(i))\n",
        "df = df[df.word_length >= 5]\n",
        "\n",
        "df.head()"
      ],
      "execution_count": 9,
      "outputs": [
        {
          "output_type": "execute_result",
          "data": {
            "text/html": [
              "<div>\n",
              "<style scoped>\n",
              "    .dataframe tbody tr th:only-of-type {\n",
              "        vertical-align: middle;\n",
              "    }\n",
              "\n",
              "    .dataframe tbody tr th {\n",
              "        vertical-align: top;\n",
              "    }\n",
              "\n",
              "    .dataframe thead th {\n",
              "        text-align: right;\n",
              "    }\n",
              "</style>\n",
              "<table border=\"1\" class=\"dataframe\">\n",
              "  <thead>\n",
              "    <tr style=\"text-align: right;\">\n",
              "      <th></th>\n",
              "      <th>category</th>\n",
              "      <th>headline</th>\n",
              "      <th>authors</th>\n",
              "      <th>link</th>\n",
              "      <th>short_description</th>\n",
              "      <th>date</th>\n",
              "      <th>text</th>\n",
              "      <th>words</th>\n",
              "      <th>word_length</th>\n",
              "    </tr>\n",
              "  </thead>\n",
              "  <tbody>\n",
              "    <tr>\n",
              "      <th>0</th>\n",
              "      <td>CRIME</td>\n",
              "      <td>There Were 2 Mass Shootings In Texas Last Week...</td>\n",
              "      <td>Melissa Jeltsen</td>\n",
              "      <td>https://www.huffingtonpost.com/entry/texas-ama...</td>\n",
              "      <td>She left her husband. He killed their children...</td>\n",
              "      <td>2018-05-26</td>\n",
              "      <td>There Were 2 Mass Shootings In Texas Last Week...</td>\n",
              "      <td>[74, 101, 257, 1331, 3001, 6, 698, 134, 96, 26...</td>\n",
              "      <td>27</td>\n",
              "    </tr>\n",
              "    <tr>\n",
              "      <th>1</th>\n",
              "      <td>ENTERTAINMENT</td>\n",
              "      <td>Will Smith Joins Diplo And Nicky Jam For The 2...</td>\n",
              "      <td>Andy McDonald</td>\n",
              "      <td>https://www.huffingtonpost.com/entry/will-smit...</td>\n",
              "      <td>Of course it has a song.</td>\n",
              "      <td>2018-05-26</td>\n",
              "      <td>Will Smith Joins Diplo And Nicky Jam For The 2...</td>\n",
              "      <td>[42, 1604, 2960, 27762, 5, 25929, 5237, 8, 1, ...</td>\n",
              "      <td>20</td>\n",
              "    </tr>\n",
              "    <tr>\n",
              "      <th>2</th>\n",
              "      <td>ENTERTAINMENT</td>\n",
              "      <td>Hugh Grant Marries For The First Time At Age 57</td>\n",
              "      <td>Ron Dicker</td>\n",
              "      <td>https://www.huffingtonpost.com/entry/hugh-gran...</td>\n",
              "      <td>The actor and his longtime girlfriend Anna Ebe...</td>\n",
              "      <td>2018-05-26</td>\n",
              "      <td>Hugh Grant Marries For The First Time At Age 5...</td>\n",
              "      <td>[5877, 5334, 8083, 8, 1, 76, 54, 21, 414, 8469...</td>\n",
              "      <td>25</td>\n",
              "    </tr>\n",
              "    <tr>\n",
              "      <th>3</th>\n",
              "      <td>ENTERTAINMENT</td>\n",
              "      <td>Jim Carrey Blasts 'Castrato' Adam Schiff And D...</td>\n",
              "      <td>Ron Dicker</td>\n",
              "      <td>https://www.huffingtonpost.com/entry/jim-carre...</td>\n",
              "      <td>The actor gives Dems an ass-kicking for not fi...</td>\n",
              "      <td>2018-05-26</td>\n",
              "      <td>Jim Carrey Blasts 'Castrato' Adam Schiff And D...</td>\n",
              "      <td>[2710, 13374, 3596, 64143, 2295, 13055, 5, 569...</td>\n",
              "      <td>26</td>\n",
              "    </tr>\n",
              "    <tr>\n",
              "      <th>4</th>\n",
              "      <td>ENTERTAINMENT</td>\n",
              "      <td>Julianna Margulies Uses Donald Trump Poop Bags...</td>\n",
              "      <td>Ron Dicker</td>\n",
              "      <td>https://www.huffingtonpost.com/entry/julianna-...</td>\n",
              "      <td>The \"Dietland\" actress said using the bags is ...</td>\n",
              "      <td>2018-05-26</td>\n",
              "      <td>Julianna Margulies Uses Donald Trump Poop Bags...</td>\n",
              "      <td>[41003, 36082, 1513, 97, 48, 7915, 3134, 2, 96...</td>\n",
              "      <td>26</td>\n",
              "    </tr>\n",
              "  </tbody>\n",
              "</table>\n",
              "</div>"
            ],
            "text/plain": [
              "        category  ... word_length\n",
              "0          CRIME  ...          27\n",
              "1  ENTERTAINMENT  ...          20\n",
              "2  ENTERTAINMENT  ...          25\n",
              "3  ENTERTAINMENT  ...          26\n",
              "4  ENTERTAINMENT  ...          26\n",
              "\n",
              "[5 rows x 9 columns]"
            ]
          },
          "metadata": {
            "tags": []
          },
          "execution_count": 9
        }
      ]
    },
    {
      "cell_type": "markdown",
      "metadata": {
        "id": "JbSWOastwc_r"
      },
      "source": [
        "Word padding .\n",
        "\n",
        "Create dict that maps each category with an integer."
      ]
    },
    {
      "cell_type": "code",
      "metadata": {
        "id": "4US6Ov2kueQX"
      },
      "source": [
        "# using 50 for padding length\n",
        "\n",
        "maxlen = 50\n",
        "X = list(sequence.pad_sequences(df.words, maxlen=maxlen))"
      ],
      "execution_count": 10,
      "outputs": []
    },
    {
      "cell_type": "code",
      "metadata": {
        "id": "ASyFrEhgu25W",
        "colab": {
          "base_uri": "https://localhost:8080/",
          "height": 0
        },
        "outputId": "4ffd22ff-0509-4c52-c80a-72369ac5f3a8"
      },
      "source": [
        "# category to id\n",
        "\n",
        "categories = df.groupby('category').size().index.tolist()\n",
        "category_int = {}\n",
        "int_category = {}\n",
        "for i, k in enumerate(categories):\n",
        "    category_int.update({k:i})\n",
        "    int_category.update({i:k})\n",
        "\n",
        "df['c2id'] = df['category'].apply(lambda x: category_int[x])"
      ],
      "execution_count": 11,
      "outputs": [
        {
          "output_type": "stream",
          "text": [
            "/usr/local/lib/python3.6/dist-packages/ipykernel_launcher.py:10: SettingWithCopyWarning: \n",
            "A value is trying to be set on a copy of a slice from a DataFrame.\n",
            "Try using .loc[row_indexer,col_indexer] = value instead\n",
            "\n",
            "See the caveats in the documentation: https://pandas.pydata.org/pandas-docs/stable/user_guide/indexing.html#returning-a-view-versus-a-copy\n",
            "  # Remove the CWD from sys.path while we load stuff.\n"
          ],
          "name": "stderr"
        }
      ]
    },
    {
      "cell_type": "code",
      "metadata": {
        "id": "KRHA4ZkpfFvy",
        "colab": {
          "base_uri": "https://localhost:8080/",
          "height": 0
        },
        "outputId": "7856ec6a-1e59-485c-eeeb-ce23826c19c0"
      },
      "source": [
        "print (len (int_category))\n",
        "print (int_category[16])\n",
        "print (int_category[3])"
      ],
      "execution_count": 17,
      "outputs": [
        {
          "output_type": "stream",
          "text": [
            "40\n",
            "HEALTHY LIVING\n",
            "BUSINESS\n"
          ],
          "name": "stdout"
        }
      ]
    },
    {
      "cell_type": "code",
      "metadata": {
        "id": "ks9onpTxu_i_",
        "colab": {
          "base_uri": "https://localhost:8080/",
          "height": 682
        },
        "outputId": "d1bccef7-4810-4280-a47a-0a3aed1ec496"
      },
      "source": [
        "df.head()"
      ],
      "execution_count": 18,
      "outputs": [
        {
          "output_type": "execute_result",
          "data": {
            "text/html": [
              "<div>\n",
              "<style scoped>\n",
              "    .dataframe tbody tr th:only-of-type {\n",
              "        vertical-align: middle;\n",
              "    }\n",
              "\n",
              "    .dataframe tbody tr th {\n",
              "        vertical-align: top;\n",
              "    }\n",
              "\n",
              "    .dataframe thead th {\n",
              "        text-align: right;\n",
              "    }\n",
              "</style>\n",
              "<table border=\"1\" class=\"dataframe\">\n",
              "  <thead>\n",
              "    <tr style=\"text-align: right;\">\n",
              "      <th></th>\n",
              "      <th>category</th>\n",
              "      <th>headline</th>\n",
              "      <th>authors</th>\n",
              "      <th>link</th>\n",
              "      <th>short_description</th>\n",
              "      <th>date</th>\n",
              "      <th>text</th>\n",
              "      <th>words</th>\n",
              "      <th>word_length</th>\n",
              "      <th>c2id</th>\n",
              "    </tr>\n",
              "  </thead>\n",
              "  <tbody>\n",
              "    <tr>\n",
              "      <th>0</th>\n",
              "      <td>CRIME</td>\n",
              "      <td>There Were 2 Mass Shootings In Texas Last Week...</td>\n",
              "      <td>Melissa Jeltsen</td>\n",
              "      <td>https://www.huffingtonpost.com/entry/texas-ama...</td>\n",
              "      <td>She left her husband. He killed their children...</td>\n",
              "      <td>2018-05-26</td>\n",
              "      <td>There Were 2 Mass Shootings In Texas Last Week...</td>\n",
              "      <td>[74, 101, 257, 1331, 3001, 6, 698, 134, 96, 26...</td>\n",
              "      <td>27</td>\n",
              "      <td>6</td>\n",
              "    </tr>\n",
              "    <tr>\n",
              "      <th>1</th>\n",
              "      <td>ENTERTAINMENT</td>\n",
              "      <td>Will Smith Joins Diplo And Nicky Jam For The 2...</td>\n",
              "      <td>Andy McDonald</td>\n",
              "      <td>https://www.huffingtonpost.com/entry/will-smit...</td>\n",
              "      <td>Of course it has a song.</td>\n",
              "      <td>2018-05-26</td>\n",
              "      <td>Will Smith Joins Diplo And Nicky Jam For The 2...</td>\n",
              "      <td>[42, 1604, 2960, 27762, 5, 25929, 5237, 8, 1, ...</td>\n",
              "      <td>20</td>\n",
              "      <td>10</td>\n",
              "    </tr>\n",
              "    <tr>\n",
              "      <th>2</th>\n",
              "      <td>ENTERTAINMENT</td>\n",
              "      <td>Hugh Grant Marries For The First Time At Age 57</td>\n",
              "      <td>Ron Dicker</td>\n",
              "      <td>https://www.huffingtonpost.com/entry/hugh-gran...</td>\n",
              "      <td>The actor and his longtime girlfriend Anna Ebe...</td>\n",
              "      <td>2018-05-26</td>\n",
              "      <td>Hugh Grant Marries For The First Time At Age 5...</td>\n",
              "      <td>[5877, 5334, 8083, 8, 1, 76, 54, 21, 414, 8469...</td>\n",
              "      <td>25</td>\n",
              "      <td>10</td>\n",
              "    </tr>\n",
              "    <tr>\n",
              "      <th>3</th>\n",
              "      <td>ENTERTAINMENT</td>\n",
              "      <td>Jim Carrey Blasts 'Castrato' Adam Schiff And D...</td>\n",
              "      <td>Ron Dicker</td>\n",
              "      <td>https://www.huffingtonpost.com/entry/jim-carre...</td>\n",
              "      <td>The actor gives Dems an ass-kicking for not fi...</td>\n",
              "      <td>2018-05-26</td>\n",
              "      <td>Jim Carrey Blasts 'Castrato' Adam Schiff And D...</td>\n",
              "      <td>[2710, 13374, 3596, 64143, 2295, 13055, 5, 569...</td>\n",
              "      <td>26</td>\n",
              "      <td>10</td>\n",
              "    </tr>\n",
              "    <tr>\n",
              "      <th>4</th>\n",
              "      <td>ENTERTAINMENT</td>\n",
              "      <td>Julianna Margulies Uses Donald Trump Poop Bags...</td>\n",
              "      <td>Ron Dicker</td>\n",
              "      <td>https://www.huffingtonpost.com/entry/julianna-...</td>\n",
              "      <td>The \"Dietland\" actress said using the bags is ...</td>\n",
              "      <td>2018-05-26</td>\n",
              "      <td>Julianna Margulies Uses Donald Trump Poop Bags...</td>\n",
              "      <td>[41003, 36082, 1513, 97, 48, 7915, 3134, 2, 96...</td>\n",
              "      <td>26</td>\n",
              "      <td>10</td>\n",
              "    </tr>\n",
              "  </tbody>\n",
              "</table>\n",
              "</div>"
            ],
            "text/plain": [
              "        category  ... c2id\n",
              "0          CRIME  ...    6\n",
              "1  ENTERTAINMENT  ...   10\n",
              "2  ENTERTAINMENT  ...   10\n",
              "3  ENTERTAINMENT  ...   10\n",
              "4  ENTERTAINMENT  ...   10\n",
              "\n",
              "[5 rows x 10 columns]"
            ]
          },
          "metadata": {
            "tags": []
          },
          "execution_count": 18
        }
      ]
    },
    {
      "cell_type": "code",
      "metadata": {
        "id": "m-PvC-xkLZhX",
        "colab": {
          "base_uri": "https://localhost:8080/",
          "height": 0
        },
        "outputId": "5870bbfe-dbed-4261-a8f3-75b9ac7d7100"
      },
      "source": [
        "print (\"Example of text and its vector:\")\n",
        "print (df['text'][1])\n",
        "print (df['words'][1])"
      ],
      "execution_count": 52,
      "outputs": [
        {
          "output_type": "stream",
          "text": [
            "Example of text and its vector\n",
            "Will Smith Joins Diplo And Nicky Jam For The 2018 World Cup's Official Song Of course it has a song.\n",
            "[42, 1604, 2960, 27762, 5, 25929, 5237, 8, 1, 2573, 80, 36081, 971, 1002, 4, 533, 14, 38, 3, 1002]\n"
          ],
          "name": "stdout"
        }
      ]
    },
    {
      "cell_type": "markdown",
      "metadata": {
        "id": "Pzn1YAjswlvA"
      },
      "source": [
        "\n",
        "### glove embedding\n",
        "GloVe is an unsupervised learning algorithm for obtaining vector representations for words. Training is performed on aggregated global word-word co-occurrence statistics from a corpus, and the resulting representations showcase interesting linear substructures of the word vector space. ( using trained model)\n"
      ]
    },
    {
      "cell_type": "code",
      "metadata": {
        "id": "GtfvPRggvGge",
        "colab": {
          "base_uri": "https://localhost:8080/",
          "height": 0
        },
        "outputId": "2510421d-a360-47c6-b091-de051b9e6970"
      },
      "source": [
        "word_index = tokenizer.word_index\n",
        "\n",
        "EMBEDDING_DIM = 100\n",
        "### Link to download glove.6b.100d.txt file : https://drive.google.com/file/d/1IVUueXEEDsEEVktMJUm7U5xhSClMgCLv/view?usp=sharing\n",
        "embeddings_index = {}\n",
        "f = open('glove.6B.100d.txt')\n",
        "for line in f:\n",
        "    values = line.split()\n",
        "    word = values[0]\n",
        "    coefs = np.asarray(values[1:], dtype='float32')\n",
        "    embeddings_index[word] = coefs\n",
        "f.close()\n",
        "\n",
        "print('Found %s unique tokens.' % len(word_index))\n",
        "print('Total %s word vectors.' % len(embeddings_index))"
      ],
      "execution_count": 20,
      "outputs": [
        {
          "output_type": "stream",
          "text": [
            "Found 116617 unique tokens.\n",
            "Total 400000 word vectors.\n"
          ],
          "name": "stdout"
        }
      ]
    },
    {
      "cell_type": "code",
      "metadata": {
        "id": "lw72TeZWvXvl"
      },
      "source": [
        "embedding_matrix = np.zeros((len(word_index) + 1, EMBEDDING_DIM))\n",
        "for word, i in word_index.items():\n",
        "    embedding_vector = embeddings_index.get(word)\n",
        "    if embedding_vector is not None:\n",
        "        embedding_matrix[i] = embedding_vector\n",
        "\n",
        "embedding_layer = Embedding(len(word_index)+1,\n",
        "                            EMBEDDING_DIM,\n",
        "                            embeddings_initializer=Constant(embedding_matrix),\n",
        "                            input_length=maxlen,\n",
        "                            trainable=False)"
      ],
      "execution_count": 21,
      "outputs": []
    },
    {
      "cell_type": "markdown",
      "metadata": {
        "id": "DvG1UlYhwtNp"
      },
      "source": [
        "### split dataset\n",
        "Split data into training and testing sets where the training set is 70% of the original data and the testing set is 30%."
      ]
    },
    {
      "cell_type": "code",
      "metadata": {
        "id": "HSUQ74y3wynl"
      },
      "source": [
        "# prepared data \n",
        "\n",
        "X = np.array(X)\n",
        "Y = np_utils.to_categorical(list(df.c2id))\n",
        "\n",
        "# and split to training set and validation set\n",
        "\n",
        "seed = 29\n",
        "x_train, x_val, y_train, y_val = train_test_split(X, Y, test_size=0.3, random_state=seed)"
      ],
      "execution_count": 22,
      "outputs": []
    },
    {
      "cell_type": "markdown",
      "metadata": {
        "id": "jTa_TTbZzQ3X"
      },
      "source": [
        "## Step 3: Build and train the model\n"
      ]
    },
    {
      "cell_type": "code",
      "metadata": {
        "id": "Ne5il648w3Ta",
        "colab": {
          "base_uri": "https://localhost:8080/",
          "height": 0
        },
        "outputId": "3786c50f-7c20-4e1f-8379-ff0e817477f8"
      },
      "source": [
        "#build\n",
        "inp = Input(shape=(maxlen,), dtype='int32')\n",
        "x = embedding_layer(inp)\n",
        "x = SpatialDropout1D(0.2)(x)\n",
        "x = Bidirectional(GRU(128, return_sequences=True, dropout=0.25, recurrent_dropout=0.25))(x)\n",
        "x = Conv1D(64, kernel_size=3)(x)\n",
        "avg_pool = GlobalAveragePooling1D()(x)\n",
        "max_pool = GlobalMaxPooling1D()(x)\n",
        "x = concatenate([avg_pool, max_pool])\n",
        "outp = Dense(len(int_category), activation=\"softmax\")(x)\n",
        "\n",
        "BiGRU = Model(inp, outp)\n",
        "BiGRU.compile(loss='categorical_crossentropy', optimizer='adam', metrics=['acc'])\n",
        "\n",
        "BiGRU.summary()"
      ],
      "execution_count": 23,
      "outputs": [
        {
          "output_type": "stream",
          "text": [
            "WARNING:tensorflow:Layer gru will not use cuDNN kernel since it doesn't meet the cuDNN kernel criteria. It will use generic GPU kernel as fallback when running on GPU\n",
            "WARNING:tensorflow:Layer gru will not use cuDNN kernel since it doesn't meet the cuDNN kernel criteria. It will use generic GPU kernel as fallback when running on GPU\n",
            "WARNING:tensorflow:Layer gru will not use cuDNN kernel since it doesn't meet the cuDNN kernel criteria. It will use generic GPU kernel as fallback when running on GPU\n",
            "Model: \"functional_1\"\n",
            "__________________________________________________________________________________________________\n",
            "Layer (type)                    Output Shape         Param #     Connected to                     \n",
            "==================================================================================================\n",
            "input_1 (InputLayer)            [(None, 50)]         0                                            \n",
            "__________________________________________________________________________________________________\n",
            "embedding (Embedding)           (None, 50, 100)      11661800    input_1[0][0]                    \n",
            "__________________________________________________________________________________________________\n",
            "spatial_dropout1d (SpatialDropo (None, 50, 100)      0           embedding[0][0]                  \n",
            "__________________________________________________________________________________________________\n",
            "bidirectional (Bidirectional)   (None, 50, 256)      176640      spatial_dropout1d[0][0]          \n",
            "__________________________________________________________________________________________________\n",
            "conv1d (Conv1D)                 (None, 48, 64)       49216       bidirectional[0][0]              \n",
            "__________________________________________________________________________________________________\n",
            "global_average_pooling1d (Globa (None, 64)           0           conv1d[0][0]                     \n",
            "__________________________________________________________________________________________________\n",
            "global_max_pooling1d (GlobalMax (None, 64)           0           conv1d[0][0]                     \n",
            "__________________________________________________________________________________________________\n",
            "concatenate (Concatenate)       (None, 128)          0           global_average_pooling1d[0][0]   \n",
            "                                                                 global_max_pooling1d[0][0]       \n",
            "__________________________________________________________________________________________________\n",
            "dense (Dense)                   (None, 40)           5160        concatenate[0][0]                \n",
            "==================================================================================================\n",
            "Total params: 11,892,816\n",
            "Trainable params: 231,016\n",
            "Non-trainable params: 11,661,800\n",
            "__________________________________________________________________________________________________\n"
          ],
          "name": "stdout"
        }
      ]
    },
    {
      "cell_type": "code",
      "metadata": {
        "id": "DX9KPYFdyKNE",
        "colab": {
          "base_uri": "https://localhost:8080/",
          "height": 0
        },
        "outputId": "b854947c-ed0f-4b07-f265-0132781e722e"
      },
      "source": [
        "# training\n",
        "\n",
        "bigru_history = BiGRU.fit(x_train, \n",
        "                          y_train, \n",
        "                          batch_size=1024, \n",
        "                          epochs=8, \n",
        "                          validation_data=(x_val, y_val))\n"
      ],
      "execution_count": 37,
      "outputs": [
        {
          "output_type": "stream",
          "text": [
            "Epoch 1/8\n",
            "137/137 [==============================] - 43s 311ms/step - loss: 1.3164 - acc: 0.6170 - val_loss: 1.2854 - val_acc: 0.6276\n",
            "Epoch 2/8\n",
            "137/137 [==============================] - 43s 313ms/step - loss: 1.3104 - acc: 0.6191 - val_loss: 1.2773 - val_acc: 0.6292\n",
            "Epoch 3/8\n",
            "137/137 [==============================] - 42s 310ms/step - loss: 1.3059 - acc: 0.6211 - val_loss: 1.2743 - val_acc: 0.6302\n",
            "Epoch 4/8\n",
            "137/137 [==============================] - 42s 309ms/step - loss: 1.2950 - acc: 0.6227 - val_loss: 1.2691 - val_acc: 0.6306\n",
            "Epoch 5/8\n",
            "137/137 [==============================] - 43s 311ms/step - loss: 1.2889 - acc: 0.6242 - val_loss: 1.2693 - val_acc: 0.6308\n",
            "Epoch 6/8\n",
            "137/137 [==============================] - 43s 312ms/step - loss: 1.2841 - acc: 0.6259 - val_loss: 1.2712 - val_acc: 0.6316\n",
            "Epoch 7/8\n",
            "137/137 [==============================] - 43s 313ms/step - loss: 1.2803 - acc: 0.6257 - val_loss: 1.2639 - val_acc: 0.6326\n",
            "Epoch 8/8\n",
            "137/137 [==============================] - 44s 319ms/step - loss: 1.2727 - acc: 0.6298 - val_loss: 1.2621 - val_acc: 0.6347\n"
          ],
          "name": "stdout"
        }
      ]
    },
    {
      "cell_type": "markdown",
      "metadata": {
        "id": "XDchF0zU0quU"
      },
      "source": [
        "## Step 4: Evaluation and Prection:\n",
        "\n",
        "We will display :\n",
        "\n",
        "- The training and validation accuracy plot \n",
        "- The training and validation loss plot\n"
      ]
    },
    {
      "cell_type": "code",
      "metadata": {
        "id": "v3qGCPkq-5yy",
        "colab": {
          "base_uri": "https://localhost:8080/",
          "height": 763
        },
        "outputId": "c8ad805d-5cd1-47ba-efc6-977961727509"
      },
      "source": [
        "acc = bigru_history.history['acc']\n",
        "val_acc =bigru_history.history['val_acc']\n",
        "loss = bigru_history.history['loss']\n",
        "val_loss = bigru_history.history['val_loss']\n",
        "epochs = range(1, len(acc) + 1)\n",
        "\n",
        "plt.title('Training and validation accuracy')\n",
        "plt.plot(epochs, acc, 'red', label='Training acc')\n",
        "plt.plot(epochs, val_acc, 'blue', label='Validation acc')\n",
        "plt.legend()\n",
        "\n",
        "plt.figure()\n",
        "plt.title('Training and validation loss')\n",
        "plt.plot(epochs, loss, 'red', label='Training loss')\n",
        "plt.plot(epochs, val_loss, 'blue', label='Validation loss')\n",
        "plt.legend()\n",
        "\n",
        "plt.show()"
      ],
      "execution_count": 27,
      "outputs": [
        {
          "output_type": "display_data",
          "data": {
            "image/png": "[encoded data removed]",
            "text/plain": [
              "<Figure size 432x432 with 1 Axes>"
            ]
          },
          "metadata": {
            "tags": [],
            "needs_background": "light"
          }
        },
        {
          "output_type": "display_data",
          "data": {
            "image/png": "[encoded data removed]",
            "text/plain": [
              "<Figure size 432x432 with 1 Axes>"
            ]
          },
          "metadata": {
            "tags": [],
            "needs_background": "light"
          }
        }
      ]
    },
    {
      "cell_type": "markdown",
      "metadata": {
        "id": "DPMyXEcr5aQ4"
      },
      "source": [
        "Evaluate the model on the validation set and calculate the total accuracy rate."
      ]
    },
    {
      "cell_type": "code",
      "metadata": {
        "id": "U3aPLhmvAIrz"
      },
      "source": [
        "def evaluate_accuracy(model):\n",
        "    predicted = model.predict(x_val)\n",
        "    diff = y_val.argmax(axis=-1) - predicted.argmax(axis=-1)\n",
        "    corrects = np.where(diff == 0)[0].shape[0]\n",
        "    total = y_val.shape[0]\n",
        "    return float(corrects/total)"
      ],
      "execution_count": 30,
      "outputs": []
    },
    {
      "cell_type": "code",
      "metadata": {
        "id": "4qthWGCtW2ID",
        "colab": {
          "base_uri": "https://localhost:8080/",
          "height": 0
        },
        "outputId": "c48c5f2b-c75f-4ec5-e7dc-0df84170e9da"
      },
      "source": [
        "print(\"model Accuracy:       %.6f\" % evaluate_accuracy(BiGRU))"
      ],
      "execution_count": 55,
      "outputs": [
        {
          "output_type": "stream",
          "text": [
            "model Accuracy:       0.634664\n"
          ],
          "name": "stdout"
        }
      ]
    },
    {
      "cell_type": "markdown",
      "metadata": {
        "id": "KV-cj1S_8eQM"
      },
      "source": [
        "### The process of prediction contains 4 main step:\n",
        "- Use tokenizer to vectorize the new text.\n",
        "- Use words padding to convert the new text vector into the input size vector.\n",
        "- Use the model to predict the category nummber.\n",
        "- Map the category number with the category name."
      ]
    },
    {
      "cell_type": "code",
      "metadata": {
        "id": "m7b6VunHuLBi",
        "colab": {
          "base_uri": "https://localhost:8080/",
          "height": 0
        },
        "outputId": "e7bdb27d-549b-4638-a96e-c532a48e33b4"
      },
      "source": [
        "#txt='War, in the popular sense, a conflict between political groups involving hostilities of considerable duration and magnitude. In the usage of social science, certain qualifications are added. Sociologists usually apply the term to such conflicts only if they are initiated and conducted in accordance with socially recognized forms. They treat war as an institution recognized in custom or in law. Military writers usually confine the term to hostilities in which the contending groups are sufficiently equal in power to render the outcome uncertain for a time. Armed conflicts of powerful states with isolated and powerless peoples are usually called pacifications, military expeditions, or explorations; with small states, they are called interventions or reprisals; and with internal groups, rebellions or insurrections. Such incidents, if the resistance is sufficiently strong or protracted, may achieve a magnitude that entitles them to the name “war.”'\n",
        "#txt='Automotive plant closures may be linked with a rise in opioid overdose deaths, new study says'\n",
        "#txt='These were the 5 biggest days for the stock market this year'\n",
        "#txt=\"Snapchat unveils redesigned Spectacles sunglasses with hefty price tag\"\n",
        "#txt=\"The overhaul of the federal tax law in 2017 was the signature legislative achievement of Donald J. Trump’s presidency. The biggest change to the tax code in three decades, the law slashed taxes for big companies, part of an effort to coax them to invest more in the United States and to discourage them from stashing profits in overseas tax havens. Corporate executives, major investors and the wealthiest Americans hailed the tax cuts as a once-in-a-generation boon not only to their own fortunes but also to the United States economy.\"\n",
        "#txt=\"ZLANTA CLAUS Zlatan Ibrahimovic celebrates PS5 launch day by giving AC Milan team-mates in-demand new console\"\n",
        "txt=\"Football is the most popular sport in Tunisia. The Tunisia national football team, also known as The Eagles of Carthage, won the 2004 African Cup of Nations (CAN) which was held in Tunisia.[8] They also represented Africa in the 2005 Confederations Cup which was held in Germany, but they could not go beyond the first round. The Eagles of Carthage have participated in four FIFA World Cup Championships.\"\n",
        "\n",
        "seq= tokenizer.texts_to_sequences([txt])\n",
        "padded = sequence.pad_sequences(seq, maxlen=maxlen)\n",
        "pred = BiGRU.predict(padded)\n",
        "categ_res=int_category[pred.argmax(axis=1)[0]]\n",
        "print (categ_res)"
      ],
      "execution_count": 58,
      "outputs": [
        {
          "output_type": "stream",
          "text": [
            "SPORTS\n"
          ],
          "name": "stdout"
        }
      ]
    },
    {
      "cell_type": "markdown",
      "metadata": {
        "id": "mITGcu1A98Qa"
      },
      "source": [
        "## Step 5: Save Model, Tokenizer and int_category dictionary\n",
        "\n",
        "You can save the model and load if you want to use it again and avoid the training proces\n",
        "\n",
        "- Save the model h5 fil.\n",
        "- Save Tokenizer in pickle file.\n",
        "- Saveint_category dictionary in pickle file."
      ]
    },
    {
      "cell_type": "code",
      "metadata": {
        "id": "MPEOQ9Nc9yZd"
      },
      "source": [
        "#how to ave the model\n",
        "BiGRU.save('model/Model_BiGRU.h5') \n",
        "#how to load a model\n",
        "model = load_model('Model_GRU.h5')"
      ],
      "execution_count": null,
      "outputs": []
    },
    {
      "cell_type": "code",
      "metadata": {
        "id": "e8dy9Njv0isW"
      },
      "source": [
        "import pickle          ##library to save and load pickle file\n",
        "#Save tokinzer\n",
        "with open('tokenizer.pickle', 'wb') as handle:\n",
        "    pickle.dump(tokenizer, handle, protocol=pickle.HIGHEST_PROTOCOL)\n",
        "#Load Tokenizer\n",
        "with open('tokenizer.pickle', 'rb') as handle:\n",
        "    loaded_tokenizer = pickle.load(handle)"
      ],
      "execution_count": null,
      "outputs": []
    },
    {
      "cell_type": "code",
      "metadata": {
        "id": "L_ls9zkeCHES"
      },
      "source": [
        "#Save int_category dict\n",
        "with open('int_category.pickle', 'wb') as handle:\n",
        "    pickle.dump(int_category, handle, protocol=pickle.HIGHEST_PROTOCOL)\n",
        "#Load int_category dict\n",
        "with open('int_category.pickle', 'rb') as handle:\n",
        "    int_category = pickle.load(handle)"
      ],
      "execution_count": null,
      "outputs": []
    }
  ]
}